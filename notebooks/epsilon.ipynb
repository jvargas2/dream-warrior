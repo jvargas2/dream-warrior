{
 "cells": [
  {
   "cell_type": "code",
   "execution_count": 15,
   "metadata": {},
   "outputs": [
    {
     "data": {
      "text/plain": [
       "[<matplotlib.lines.Line2D at 0x15827ceb8>]"
      ]
     },
     "execution_count": 15,
     "metadata": {},
     "output_type": "execute_result"
    },
    {
     "data": {
      "image/png": "[encoded data removed]",
      "text/plain": [
       "<Figure size 432x288 with 1 Axes>"
      ]
     },
     "metadata": {
      "needs_background": "light"
     },
     "output_type": "display_data"
    }
   ],
   "source": [
    "\"\"\"\n",
    "For testing different epsilon values to get a nice decay.\n",
    "\"\"\"\n",
    "\n",
    "import matplotlib.pyplot as plt\n",
    "import random\n",
    "import math\n",
    "import numpy as np\n",
    "%matplotlib inline\n",
    "\n",
    "EPSILON_START = 1.0\n",
    "EPSILON_END = 0.1\n",
    "EPSILON_DECAY = int(1e6)\n",
    "\n",
    "def get_threshold(steps_done):\n",
    "#     steps_left = decay_period + warmup_steps - step\n",
    "#     bonus = (1.0 - epsilon) * steps_left / decay_period\n",
    "#     bonus = np.clip(bonus, 0., 1. - epsilon)\n",
    "#     return epsilon + bonus\n",
    "\n",
    "#     difference = EPSILON_START - EPSILON_END\n",
    "#     exponent = math.exp(-1. * steps_done / EPSILON_DECAY)\n",
    "#     eps_threshold = EPSILON_END + difference * exponent\n",
    "#     return eps_threshold\n",
    "    \n",
    "    steps_left = EPSILON_DECAY - steps_done\n",
    "    bonus = (1.0 - EPSILON_END) * steps_left / EPSILON_DECAY\n",
    "    bonus = np.clip(bonus, 0., 1. - EPSILON_END)\n",
    "    return EPSILON_END + bonus\n",
    "\n",
    "plt.plot([get_threshold(i) for i in range(int(1e7))])"
   ]
  },
  {
   "cell_type": "code",
   "execution_count": null,
   "metadata": {},
   "outputs": [],
   "source": [
    "def beta(frame):\n",
    "    start = 0.4\n",
    "    frames = 1e6\n",
    "    return min(1.0, start + frame * (1.0 - start) / frames)\n",
    "\n",
    "plt.plot([beta(i) for i in range(int(1e7))])"
   ]
  },
  {
   "cell_type": "code",
   "execution_count": null,
   "metadata": {},
   "outputs": [],
   "source": []
  }
 ],
 "metadata": {
  "kernelspec": {
   "display_name": "Python 3",
   "language": "python",
   "name": "python3"
  },
  "language_info": {
   "codemirror_mode": {
    "name": "ipython",
    "version": 3
   },
   "file_extension": ".py",
   "mimetype": "text/x-python",
   "name": "python",
   "nbconvert_exporter": "python",
   "pygments_lexer": "ipython3",
   "version": "3.6.5"
  }
 },
 "nbformat": 4,
 "nbformat_minor": 2
}
